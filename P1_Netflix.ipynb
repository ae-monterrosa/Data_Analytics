{
  "nbformat": 4,
  "nbformat_minor": 0,
  "metadata": {
    "colab": {
      "provenance": [],
      "authorship_tag": "ABX9TyNcf/RNkH9yTmvDQv2H13gZ",
      "include_colab_link": true
    },
    "kernelspec": {
      "name": "python3",
      "display_name": "Python 3"
    },
    "language_info": {
      "name": "python"
    }
  },
  "cells": [
    {
      "cell_type": "markdown",
      "metadata": {
        "id": "view-in-github",
        "colab_type": "text"
      },
      "source": [
        "<a href=\"https://colab.research.google.com/github/ae-monterrosa/Data_Analytics/blob/main/P1_Netflix.ipynb\" target=\"_parent\"><img src=\"https://colab.research.google.com/assets/colab-badge.svg\" alt=\"Open In Colab\"/></a>"
      ]
    },
    {
      "cell_type": "markdown",
      "source": [
        "## Are Netflix movies getting shorter?"
      ],
      "metadata": {
        "id": "HYWis1M-u5f2"
      }
    },
    {
      "cell_type": "code",
      "execution_count": null,
      "metadata": {
        "id": "fG3KrDdOqHFJ"
      },
      "outputs": [],
      "source": [
        "# Importing pandas and matplotlib\n",
        "import pandas as pd\n",
        "import matplotlib.pyplot as plt"
      ]
    },
    {
      "cell_type": "code",
      "source": [
        "# Read in the Netflix CSV as a DataFrame\n",
        "netflix_df = pd.read_csv(\"/netflix_data.csv\")"
      ],
      "metadata": {
        "id": "_9lPsyYFqb3_"
      },
      "execution_count": null,
      "outputs": []
    },
    {
      "cell_type": "code",
      "source": [
        "from google.colab import drive\n",
        "drive.mount('/content/drive')"
      ],
      "metadata": {
        "id": "900uOPNgv7Jk"
      },
      "execution_count": null,
      "outputs": []
    },
    {
      "cell_type": "code",
      "source": [
        "# Subset the DataFrame for type \"Movie\"\n",
        "netflix_subset = netflix_df[netflix_df[\"type\"] == \"Movie\"]"
      ],
      "metadata": {
        "id": "2AG2OuejuR1U"
      },
      "execution_count": null,
      "outputs": []
    },
    {
      "cell_type": "code",
      "source": [
        "# Select only the columns of interest\n",
        "netflix_movies = netflix_subset[[\"title\", \"country\", \"genre\", \"release_year\", \"duration\"]]"
      ],
      "metadata": {
        "id": "lGGYL31luVoS"
      },
      "execution_count": null,
      "outputs": []
    },
    {
      "cell_type": "code",
      "source": [
        "# Filter for durations shorter than 60 minutes\n",
        "short_movies = netflix_movies[netflix_movies.duration < 60]"
      ],
      "metadata": {
        "id": "D8xBHJcbubZs"
      },
      "execution_count": null,
      "outputs": []
    },
    {
      "cell_type": "code",
      "source": [
        "# Define an empty list\n",
        "colors = []"
      ],
      "metadata": {
        "id": "_oHoHFoXuee5"
      },
      "execution_count": null,
      "outputs": []
    },
    {
      "cell_type": "code",
      "source": [
        "# Iterate over rows of netflix_movies\n",
        "for label, row in netflix_movies.iterrows() :\n",
        "    if row[\"genre\"] == \"Children\" :\n",
        "        colors.append(\"red\")\n",
        "    elif row[\"genre\"] == \"Documentaries\" :\n",
        "        colors.append(\"blue\")\n",
        "    elif row[\"genre\"] == \"Stand-Up\":\n",
        "        colors.append(\"green\")\n",
        "    else:\n",
        "        colors.append(\"black\")"
      ],
      "metadata": {
        "id": "1qSSFck1uiEX"
      },
      "execution_count": null,
      "outputs": []
    },
    {
      "cell_type": "code",
      "source": [
        "# Inspect the first 10 values in your list\n",
        "colors[:10]"
      ],
      "metadata": {
        "id": "cH-oY9lnumNN"
      },
      "execution_count": null,
      "outputs": []
    },
    {
      "cell_type": "code",
      "source": [
        "# Set the figure style and initalize a new figure\n",
        "fig = plt.figure(figsize=(12,8))"
      ],
      "metadata": {
        "id": "bZ2mmv3qup6G"
      },
      "execution_count": null,
      "outputs": []
    },
    {
      "cell_type": "code",
      "source": [
        "# Create a scatter plot of duration versus release_year\n",
        "plt.scatter(netflix_movies.release_year, netflix_movies.duration, c=colors)"
      ],
      "metadata": {
        "id": "3pnwOYQ2usmT"
      },
      "execution_count": null,
      "outputs": []
    },
    {
      "cell_type": "code",
      "source": [
        "# Create a title and axis labels\n",
        "plt.title(\"Movie Duration by Year of Release\")\n",
        "plt.xlabel(\"Release year\")\n",
        "plt.ylabel(\"Duration (min)\")\n",
        "\n",
        "# Show the plot\n",
        "plt.show()"
      ],
      "metadata": {
        "id": "8z9iljYuuuim"
      },
      "execution_count": null,
      "outputs": []
    },
    {
      "cell_type": "code",
      "source": [
        "# Are we certain that movies are getting shorter?\n",
        "answer = \"no\""
      ],
      "metadata": {
        "id": "zVsC8Ug9uwh4"
      },
      "execution_count": null,
      "outputs": []
    }
  ]
}